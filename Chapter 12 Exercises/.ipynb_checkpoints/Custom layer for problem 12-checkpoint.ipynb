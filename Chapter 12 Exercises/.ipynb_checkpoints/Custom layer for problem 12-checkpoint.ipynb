{
 "cells": [
  {
   "cell_type": "code",
   "execution_count": 72,
   "metadata": {},
   "outputs": [],
   "source": [
    "import tensorflow as tf\n",
    "class LayerNorm(tf.keras.layers.Layer):\n",
    "    \n",
    "    def __init__(self, **kwargs):\n",
    "        super().__init__(**kwargs)\n",
    "        \n",
    "    def build(self, batch_input_shape):\n",
    "        # The first shape would be the batch size\n",
    "        self.units = tf.constant(100.)\n",
    "        self.kernel = self.add_weight(name=\"kernel\", shape=batch_input_shape[-1:], initializer=\"ones\")\n",
    "        self.bias = self.add_weight(name=\"bias\", shape=batch_input_shape[-1:], initializer=\"zeros\")\n",
    "        super().build(batch_input_shape)\n",
    "        \n",
    "    def call(self, inputs):\n",
    "        self.mean, self.variance = tf.nn.moments(inputs, axes=-1,keepdims=True)\n",
    "        self.epsilon = 3e-4\n",
    "        self.std_dev = tf.math.sqrt(self.variance)\n",
    "        # Matrix multiplication MUST be between 2-dimensional matrices\n",
    "        return (((inputs - self.mean) * (self.kernel))/(self.std_dev + self.epsilon)) + self.bias"
   ]
  },
  {
   "cell_type": "code",
   "execution_count": 74,
   "metadata": {},
   "outputs": [],
   "source": [
    "# Building the model\n",
    "import numpy as np\n",
    "layerNormalization = LayerNorm()\n",
    "example_batch = np.arange(32*24*24).reshape((32,24,24)).astype(np.float32)\n",
    "layerNormalization.build(example_batch.shape)"
   ]
  },
  {
   "cell_type": "code",
   "execution_count": 75,
   "metadata": {},
   "outputs": [
    {
     "data": {
      "text/plain": [
       "<tf.Tensor: shape=(32, 24, 24), dtype=float32, numpy=\n",
       "array([[[-1.6612529, -1.5167961, -1.3723392, ...,  1.3723392,\n",
       "          1.5167961,  1.6612529],\n",
       "        [-1.6612529, -1.5167961, -1.3723392, ...,  1.3723392,\n",
       "          1.5167961,  1.6612529],\n",
       "        [-1.6612529, -1.5167961, -1.3723392, ...,  1.3723392,\n",
       "          1.5167961,  1.6612529],\n",
       "        ...,\n",
       "        [-1.6612529, -1.5167961, -1.3723392, ...,  1.3723392,\n",
       "          1.5167961,  1.6612529],\n",
       "        [-1.6612529, -1.5167961, -1.3723392, ...,  1.3723392,\n",
       "          1.5167961,  1.6612529],\n",
       "        [-1.6612529, -1.5167961, -1.3723392, ...,  1.3723392,\n",
       "          1.5167961,  1.6612529]],\n",
       "\n",
       "       [[-1.6612529, -1.5167961, -1.3723392, ...,  1.3723392,\n",
       "          1.5167961,  1.6612529],\n",
       "        [-1.6612529, -1.5167961, -1.3723392, ...,  1.3723392,\n",
       "          1.5167961,  1.6612529],\n",
       "        [-1.6612529, -1.5167961, -1.3723392, ...,  1.3723392,\n",
       "          1.5167961,  1.6612529],\n",
       "        ...,\n",
       "        [-1.6612529, -1.5167961, -1.3723392, ...,  1.3723392,\n",
       "          1.5167961,  1.6612529],\n",
       "        [-1.6612529, -1.5167961, -1.3723392, ...,  1.3723392,\n",
       "          1.5167961,  1.6612529],\n",
       "        [-1.6612529, -1.5167961, -1.3723392, ...,  1.3723392,\n",
       "          1.5167961,  1.6612529]],\n",
       "\n",
       "       [[-1.6612529, -1.5167961, -1.3723392, ...,  1.3723392,\n",
       "          1.5167961,  1.6612529],\n",
       "        [-1.6612529, -1.5167961, -1.3723392, ...,  1.3723392,\n",
       "          1.5167961,  1.6612529],\n",
       "        [-1.6612529, -1.5167961, -1.3723392, ...,  1.3723392,\n",
       "          1.5167961,  1.6612529],\n",
       "        ...,\n",
       "        [-1.6612529, -1.5167961, -1.3723392, ...,  1.3723392,\n",
       "          1.5167961,  1.6612529],\n",
       "        [-1.6612529, -1.5167961, -1.3723392, ...,  1.3723392,\n",
       "          1.5167961,  1.6612529],\n",
       "        [-1.6612529, -1.5167961, -1.3723392, ...,  1.3723392,\n",
       "          1.5167961,  1.6612529]],\n",
       "\n",
       "       ...,\n",
       "\n",
       "       [[-1.6612529, -1.5167961, -1.3723392, ...,  1.3723392,\n",
       "          1.5167961,  1.6612529],\n",
       "        [-1.6612529, -1.5167961, -1.3723392, ...,  1.3723392,\n",
       "          1.5167961,  1.6612529],\n",
       "        [-1.6612529, -1.5167961, -1.3723392, ...,  1.3723392,\n",
       "          1.5167961,  1.6612529],\n",
       "        ...,\n",
       "        [-1.6612529, -1.5167961, -1.3723392, ...,  1.3723392,\n",
       "          1.5167961,  1.6612529],\n",
       "        [-1.6612529, -1.5167961, -1.3723392, ...,  1.3723392,\n",
       "          1.5167961,  1.6612529],\n",
       "        [-1.6612529, -1.5167961, -1.3723392, ...,  1.3723392,\n",
       "          1.5167961,  1.6612529]],\n",
       "\n",
       "       [[-1.6612529, -1.5167961, -1.3723392, ...,  1.3723392,\n",
       "          1.5167961,  1.6612529],\n",
       "        [-1.6612529, -1.5167961, -1.3723392, ...,  1.3723392,\n",
       "          1.5167961,  1.6612529],\n",
       "        [-1.6612529, -1.5167961, -1.3723392, ...,  1.3723392,\n",
       "          1.5167961,  1.6612529],\n",
       "        ...,\n",
       "        [-1.6612529, -1.5167961, -1.3723392, ...,  1.3723392,\n",
       "          1.5167961,  1.6612529],\n",
       "        [-1.6612529, -1.5167961, -1.3723392, ...,  1.3723392,\n",
       "          1.5167961,  1.6612529],\n",
       "        [-1.6612529, -1.5167961, -1.3723392, ...,  1.3723392,\n",
       "          1.5167961,  1.6612529]],\n",
       "\n",
       "       [[-1.6612529, -1.5167961, -1.3723392, ...,  1.3723392,\n",
       "          1.5167961,  1.6612529],\n",
       "        [-1.6612529, -1.5167961, -1.3723392, ...,  1.3723392,\n",
       "          1.5167961,  1.6612529],\n",
       "        [-1.6612529, -1.5167961, -1.3723392, ...,  1.3723392,\n",
       "          1.5167961,  1.6612529],\n",
       "        ...,\n",
       "        [-1.6612529, -1.5167961, -1.3723392, ...,  1.3723392,\n",
       "          1.5167961,  1.6612529],\n",
       "        [-1.6612529, -1.5167961, -1.3723392, ...,  1.3723392,\n",
       "          1.5167961,  1.6612529],\n",
       "        [-1.6612529, -1.5167961, -1.3723392, ...,  1.3723392,\n",
       "          1.5167961,  1.6612529]]], dtype=float32)>"
      ]
     },
     "execution_count": 75,
     "metadata": {},
     "output_type": "execute_result"
    }
   ],
   "source": [
    "# Sanity Check\n",
    "layerNormalization(example_batch)"
   ]
  },
  {
   "cell_type": "code",
   "execution_count": 76,
   "metadata": {},
   "outputs": [
    {
     "data": {
      "text/plain": [
       "<tf.Tensor: shape=(), dtype=float32, numpy=2.8462464e-05>"
      ]
     },
     "execution_count": 76,
     "metadata": {},
     "output_type": "execute_result"
    }
   ],
   "source": [
    "# Looking at the mean squared error between the LayerNormalization and the custom one we just made\n",
    "keras_layer_norm = tf.keras.layers.LayerNormalization()\n",
    "tf.reduce_mean(tf.keras.losses.mean_absolute_error(keras_layer_norm(example_batch), model(example_batch)))\n",
    "# Awesome! A very small difference, so they are basically the same thing"
   ]
  },
  {
   "cell_type": "code",
   "execution_count": null,
   "metadata": {},
   "outputs": [],
   "source": []
  }
 ],
 "metadata": {
  "kernelspec": {
   "display_name": "Python 3",
   "language": "python",
   "name": "python3"
  },
  "language_info": {
   "codemirror_mode": {
    "name": "ipython",
    "version": 3
   },
   "file_extension": ".py",
   "mimetype": "text/x-python",
   "name": "python",
   "nbconvert_exporter": "python",
   "pygments_lexer": "ipython3",
   "version": "3.8.5"
  }
 },
 "nbformat": 4,
 "nbformat_minor": 4
}
