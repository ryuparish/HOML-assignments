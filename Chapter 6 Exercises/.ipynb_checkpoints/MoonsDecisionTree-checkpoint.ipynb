{
 "cells": [
  {
   "cell_type": "code",
   "execution_count": 32,
   "metadata": {},
   "outputs": [],
   "source": [
    "from sklearn.datasets import make_moons\n",
    "\n",
    "moons = make_moons(n_samples=10000, noise=.4)\n",
    "# List of samples and list of labels in numpy array\n",
    "# I want to plot this, so I will be reading data analysis with python"
   ]
  },
  {
   "cell_type": "code",
   "execution_count": 33,
   "metadata": {},
   "outputs": [],
   "source": [
    "# Training data\n",
    "moons_data = moons[0]\n",
    "# Labels\n",
    "moons_labels = moons[1]"
   ]
  },
  {
   "cell_type": "code",
   "execution_count": 22,
   "metadata": {},
   "outputs": [
    {
     "data": {
      "image/png": "[encoded data removed]",
      "text/plain": [
       "<Figure size 432x288 with 1 Axes>"
      ]
     },
     "metadata": {
      "needs_background": "light"
     },
     "output_type": "display_data"
    }
   ],
   "source": [
    "# This will take forever if you try to plot 10,000 samples\n",
    "import matplotlib.pyplot as plt\n",
    "figure = plt.figure(); ax = figure.add_subplot(1,1,1)\n",
    "for coord, label in zip(moons_data, moons_labels):\n",
    "    x = coord[0]\n",
    "    y = coord[1]\n",
    "    if label == 1:\n",
    "        dot_color = 'b'\n",
    "        shape = 'v'\n",
    "    else:\n",
    "        dot_color = 'r'\n",
    "        shape = 'o'\n",
    "    ax.scatter(x, y, c=dot_color, marker=shape)"
   ]
  },
  {
   "cell_type": "code",
   "execution_count": 36,
   "metadata": {},
   "outputs": [],
   "source": [
    "# Splitting the data into test and train sets\n",
    "from sklearn.model_selection import train_test_split\n",
    "x_train, x_val, y_train, y_val = train_test_split(moons_data, moons_labels, test_size=0.1)"
   ]
  },
  {
   "cell_type": "code",
   "execution_count": 44,
   "metadata": {},
   "outputs": [
    {
     "data": {
      "text/plain": [
       "{'criterion': 'gini', 'max_leaf_nodes': 20}"
      ]
     },
     "execution_count": 44,
     "metadata": {},
     "output_type": "execute_result"
    }
   ],
   "source": [
    "# Getting the classifier\n",
    "from sklearn.tree import DecisionTreeClassifier\n",
    "from sklearn.model_selection import GridSearchCV\n",
    "tree_clf = DecisionTreeClassifier()\n",
    "tree_clf.fit(x_train,y_train)\n",
    "params = {\n",
    "    'max_leaf_nodes':[16, 18, 20, 24, 26],\n",
    "    'criterion':[\"gini\", \"entropy\"]\n",
    "}\n",
    "grid_search = GridSearchCV(tree_clf, params, cv=2, scoring=\"neg_mean_squared_error\", return_train_score=\"True\")\n",
    "grid_search.fit(x_train, y_train)\n",
    "grid_search.best_params_"
   ]
  },
  {
   "cell_type": "code",
   "execution_count": 48,
   "metadata": {},
   "outputs": [
    {
     "data": {
      "text/plain": [
       "0.8369646249669337"
      ]
     },
     "execution_count": 48,
     "metadata": {},
     "output_type": "execute_result"
    }
   ],
   "source": [
    "# Now to look at the cross validation score\n",
    "from sklearn.model_selection import cross_val_score\n",
    "tree_clf = DecisionTreeClassifier(max_leaf_nodes=20)\n",
    "tree_clf.fit(x_train, y_train)\n",
    "scores = cross_val_score(tree_clf, x_val, y_val, cv = 6, scoring=\"accuracy\")\n",
    "sum(scores)/6\n",
    "# Average accuracy of 83%\n",
    "# End of exercise 7"
   ]
  },
  {
   "cell_type": "code",
   "execution_count": 80,
   "metadata": {},
   "outputs": [],
   "source": [
    "# Shuffling and splitting the training set\n",
    "from sklearn.model_selection import ShuffleSplit\n",
    "subset_split = ShuffleSplit(n_splits=1000, train_size=.011112, test_size = .006)"
   ]
  },
  {
   "cell_type": "code",
   "execution_count": 103,
   "metadata": {},
   "outputs": [],
   "source": [
    "# Training one tree per subset\n",
    "decision_trees = list()\n",
    "forest_accuracy = list()\n",
    "for training_indices, testing_indices in subset_split.split(x_train):\n",
    "    tree = DecisionTreeClassifier(max_leaf_nodes=20)\n",
    "    tree.fit(x_train[training_indices], y_train[training_indices])\n",
    "    forest_accuracy.append(cross_val_score(tree, x_test, y_test, cv=2, scoring=\"accuracy\"))\n",
    "    decision_trees.append(tree)"
   ]
  },
  {
   "cell_type": "code",
   "execution_count": 104,
   "metadata": {},
   "outputs": [
    {
     "name": "stdout",
     "output_type": "stream",
     "text": [
      "[0.49328321 0.50671679]\n",
      "[0.27723764 0.72276236]\n",
      "[0.40522001 0.59477999]\n",
      "[0.38264189 0.61735811]\n",
      "[0.38574041 0.61425959]\n"
     ]
    }
   ],
   "source": [
    "# 1000 different trees are generated\n",
    "for tree in decision_trees[:5]:\n",
    "    print(tree.feature_importances_)"
   ]
  },
  {
   "cell_type": "code",
   "execution_count": 120,
   "metadata": {},
   "outputs": [
    {
     "data": {
      "text/plain": [
       "array([0.849932, 0.84    ])"
      ]
     },
     "execution_count": 120,
     "metadata": {},
     "output_type": "execute_result"
    }
   ],
   "source": [
    "# Accuracy of the forest\n",
    "sum(forest_accuracy[:])/len(forest_accuracy[:])\n",
    "# About 85 percent as a forest"
   ]
  },
  {
   "cell_type": "code",
   "execution_count": null,
   "metadata": {},
   "outputs": [],
   "source": []
  }
 ],
 "metadata": {
  "kernelspec": {
   "display_name": "Python 3",
   "language": "python",
   "name": "python3"
  },
  "language_info": {
   "codemirror_mode": {
    "name": "ipython",
    "version": 3
   },
   "file_extension": ".py",
   "mimetype": "text/x-python",
   "name": "python",
   "nbconvert_exporter": "python",
   "pygments_lexer": "ipython3",
   "version": "3.8.5"
  }
 },
 "nbformat": 4,
 "nbformat_minor": 4
}
