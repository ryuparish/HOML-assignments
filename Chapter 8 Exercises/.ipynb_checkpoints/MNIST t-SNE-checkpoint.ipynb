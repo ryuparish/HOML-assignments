{
 "cells": [
  {
   "cell_type": "code",
   "execution_count": 3,
   "metadata": {},
   "outputs": [],
   "source": [
    "# First we load our dataset\n",
    "import numpy as np\n",
    "from sklearn.datasets import fetch_openml\n",
    "mnist_pkg = fetch_openml('mnist_784', version=1)\n",
    "X, Y = mnist_pkg['data'], mnist_pkg['target']"
   ]
  },
  {
   "cell_type": "code",
   "execution_count": 7,
   "metadata": {},
   "outputs": [],
   "source": [
    "# Turning the code into a bunch\n",
    "# Remember to uncomment this after one time or you will keep getting an error\n",
    "# X = X.to_numpy()\n",
    "# Y = Y.to_numpy().astype(np.uint8)\n",
    "\n",
    "# Splitting up the data\n",
    "from sklearn.model_selection import train_test_split\n",
    "train_data = X[:60000]\n",
    "train_labels = Y[:60000]\n",
    "\n",
    "# Do not use the data for the testing\n",
    "test_data = X[60000:]\n",
    "test_labels = Y[60000:]\n",
    "\n",
    "x_train, x_val, y_train, y_val = train_test_split(train_data, train_labels, test_size=1/6)"
   ]
  },
  {
   "cell_type": "code",
   "execution_count": 16,
   "metadata": {},
   "outputs": [
    {
     "name": "stdout",
     "output_type": "stream",
     "text": [
      "Here is the validation score (non reduced dimensions) 0.9695\n",
      "Here is the test score (also non reduced dimenstions) 0.9667\n",
      "And here is the time it took: 30.93401074409485\n"
     ]
    }
   ],
   "source": [
    "# Training and testing a random forest model\n",
    "from sklearn.ensemble import RandomForestClassifier\n",
    "import time\n",
    "rfc1 = RandomForestClassifier()\n",
    "rfc2 = RandomForestClassifier()\n",
    "init_time = time.time()\n",
    "rfc1.fit(x_train, y_train)\n",
    "final_time = time.time()\n",
    "print(\"Here is the validation score (non reduced dimensions)\", rfc1.score(x_val, y_val))\n",
    "print(\"Here is the test score (also non reduced dimenstions)\", rfc1.score(test_data, test_labels))\n",
    "print(\"And here is the time it took:\", final_time - init_time)\n",
    "# Nice!"
   ]
  },
  {
   "cell_type": "code",
   "execution_count": 19,
   "metadata": {},
   "outputs": [
    {
     "name": "stdout",
     "output_type": "stream",
     "text": [
      "Here is the validation score (non reduced dimensions) 0.9476\n",
      "Here is the test score (also non reduced dimenstions) 0.9463\n",
      "And here is the time it took: 90.36516308784485\n"
     ]
    }
   ],
   "source": [
    "from sklearn.decomposition import PCA\n",
    "pca = PCA(n_components=.95)\n",
    "x_transformed_train = pca.fit_transform(x_train)\n",
    "x_transformed_val = pca.transform(x_val)\n",
    "transformed_test_data = pca.transform(test_data)\n",
    "init_time = time.time()\n",
    "rfc2.fit(x_transformed_train,y_train)\n",
    "final_time = time.time()\n",
    "print(\"Here is the validation score (non reduced dimensions)\", rfc2.score(x_transformed_val, y_val))\n",
    "print(\"Here is the test score (also non reduced dimenstions)\", rfc2.score(transformed_test_data, test_labels))\n",
    "print(\"And here is the time it took:\", final_time - init_time)\n",
    "# The score went down about 2%. Not so good, but not so bad either. Although, the dimensionality reduction slows down\n",
    "# the training?"
   ]
  },
  {
   "cell_type": "code",
   "execution_count": null,
   "metadata": {},
   "outputs": [],
   "source": []
  }
 ],
 "metadata": {
  "kernelspec": {
   "display_name": "Python 3",
   "language": "python",
   "name": "python3"
  },
  "language_info": {
   "codemirror_mode": {
    "name": "ipython",
    "version": 3
   },
   "file_extension": ".py",
   "mimetype": "text/x-python",
   "name": "python",
   "nbconvert_exporter": "python",
   "pygments_lexer": "ipython3",
   "version": "3.8.5"
  }
 },
 "nbformat": 4,
 "nbformat_minor": 4
}
